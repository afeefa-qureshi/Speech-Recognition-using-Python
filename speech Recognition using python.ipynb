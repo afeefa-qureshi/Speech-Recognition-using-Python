{
 "cells": [
  {
   "cell_type": "markdown",
   "id": "df95c144",
   "metadata": {},
   "source": [
    "# Speech to Text Recognition using Python"
   ]
  },
  {
   "cell_type": "code",
   "execution_count": 1,
   "id": "217e0833",
   "metadata": {},
   "outputs": [],
   "source": [
    "#This library provides a simple interface to recognize speech using various speech recognition engines.\n",
    "#It is used to capture audio from the microphone and perform speech recognition on the captured audio.\n",
    "\n",
    "import speech_recognition as sr   "
   ]
  },
  {
   "cell_type": "code",
   "execution_count": 2,
   "id": "c0810a86",
   "metadata": {},
   "outputs": [],
   "source": [
    "#It is used to create the graphical user interface for the speech recognition application. \n",
    "#It includes elements like labels, buttons, and the main application window.\n",
    "\n",
    "import tkinter as tk\n",
    "from tkinter import ttk"
   ]
  },
  {
   "cell_type": "markdown",
   "id": "b71a7dc1",
   "metadata": {},
   "source": [
    "\n",
    "The purpose of the \"class SpeechRecognitionApp\" is to create a basic speech recognition application with a user-friendly GUI. \n",
    "the application allows users to click a \"Speak\" button, say something into the microphone, \n",
    "and see the recognized text or an error message displayed in a Tkinter Text widget.\n",
    "\n",
    "A method that integrates speech recognition functionality using the SpeechRecognition library with a Tkinter GUI. It captures audio from the microphone, attempts to recognize speech, and updates a Tkinter Text widget with the recognized text or appropriate error messages. The Tkinter main loop ensures that the GUI remains responsive.\n",
    "\n"
   ]
  },
  {
   "cell_type": "code",
   "execution_count": 7,
   "id": "d38c2bce",
   "metadata": {},
   "outputs": [
    {
     "name": "stdout",
     "output_type": "stream",
     "text": [
      "You said: good evening how are you\n",
      "You said: hi dear good evening how are you\n",
      "You said: hi there good evening how are you\n"
     ]
    }
   ],
   "source": [
    "class SpeechRecognitionApp:\n",
    "    def __init__(self, root):\n",
    "        self.root = root\n",
    "        self.root.title(\"Speech Recognition\")\n",
    "        self.root.geometry(\"600x400\")\n",
    "        self.root.configure(bg=\"#473578\") \n",
    "\n",
    "        self.heading_label = ttk.Label(self.root, text=\"Speech Recognition\", font=(\"Segoe UI Black\", 19, \"bold\"), background=\"#473578\", foreground=\"white\")\n",
    "        self.heading_label.pack(pady=30, ipady=10)   \n",
    "\n",
    "        self.text_widget = tk.Text(self.root, wrap=\"word\", width=50, height=5, font=(\"High Tower Text\", 12), bg=\"white\", fg=\"black\")\n",
    "        self.text_widget.pack(pady=20)\n",
    "\n",
    "        self.speak_button = ttk.Button(self.root, text=\"Speak\", command=self.start_listening)\n",
    "        self.speak_button.pack(pady=20)\n",
    "        \n",
    "    def start_listening(self):\n",
    "        self.text_widget.delete(1.0, tk.END)  \n",
    "        self.text_widget.insert(tk.END, \"Say something...\\n\")\n",
    "        self.text_widget.insert(tk.END, \"Listening...\\n\")  # Update the message to indicate listening\n",
    "        self.root.update()\n",
    "\n",
    "        recognizer = sr.Recognizer()\n",
    "\n",
    "        with sr.Microphone() as source:\n",
    "            recognizer.adjust_for_ambient_noise(source)\n",
    "            audio = recognizer.listen(source, timeout=5)\n",
    "\n",
    "        try:\n",
    "            text = recognizer.recognize_google(audio)\n",
    "            result_text = \"You said: \" + text\n",
    "            print(result_text)\n",
    "            self.text_widget.insert(tk.END, result_text + \"\\n\")\n",
    "        except sr.UnknownValueError:\n",
    "            self.text_widget.insert(tk.END, \"Could not understand audio\\n\")\n",
    "        except sr.RequestError as e:\n",
    "            error_message = f\"Error with the speech recognition service; {e}\"\n",
    "            print(error_message)\n",
    "            self.text_widget.insert(tk.END, error_message + \"\\n\")\n",
    "\n",
    "if __name__ == \"__main__\":\n",
    "    root = tk.Tk()\n",
    "    app = SpeechRecognitionApp(root)\n",
    "    root.mainloop()\n"
   ]
  },
  {
   "cell_type": "code",
   "execution_count": null,
   "id": "b60324b9",
   "metadata": {},
   "outputs": [],
   "source": []
  }
 ],
 "metadata": {
  "kernelspec": {
   "display_name": "Python 3 (ipykernel)",
   "language": "python",
   "name": "python3"
  },
  "language_info": {
   "codemirror_mode": {
    "name": "ipython",
    "version": 3
   },
   "file_extension": ".py",
   "mimetype": "text/x-python",
   "name": "python",
   "nbconvert_exporter": "python",
   "pygments_lexer": "ipython3",
   "version": "3.9.13"
  }
 },
 "nbformat": 4,
 "nbformat_minor": 5
}
